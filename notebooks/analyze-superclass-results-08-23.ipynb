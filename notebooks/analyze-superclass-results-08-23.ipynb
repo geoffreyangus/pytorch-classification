{
 "cells": [
  {
   "cell_type": "markdown",
   "metadata": {},
   "source": [
    "## Loads Model, Obtains Predictions, Writes Files, Useful Code Bits"
   ]
  },
  {
   "cell_type": "code",
   "execution_count": null,
   "metadata": {},
   "outputs": [],
   "source": [
    "%load_ext autoreload\n",
    "%autoreload 2\n",
    "\n",
    "import os\n",
    "os.chdir('..')\n",
    "os.environ['CUDA_VISIBLE_DEVICES']='0,1'"
   ]
  },
  {
   "cell_type": "code",
   "execution_count": 2,
   "metadata": {},
   "outputs": [],
   "source": [
    "# Set checkpoint path\n",
    "checkpoint_path = '/lfs/local/0/jdunnmon/repos/pytorch-classification/checkpoints/cifar100/resnext-8x64d-epochs300-superclass-correct-val'"
   ]
  },
  {
   "cell_type": "code",
   "execution_count": 3,
   "metadata": {},
   "outputs": [
    {
     "name": "stderr",
     "output_type": "stream",
     "text": [
      "/lfs/raiders2/0/jdunnmon/repos/pytorch-classification/models/cifar/resnext.py:81: UserWarning: nn.init.kaiming_normal is now deprecated in favor of nn.init.kaiming_normal_.\n",
      "  init.kaiming_normal(self.classifier.weight)\n",
      "/lfs/raiders2/0/jdunnmon/repos/pytorch-classification/models/cifar/resnext.py:86: UserWarning: nn.init.kaiming_normal is now deprecated in favor of nn.init.kaiming_normal_.\n",
      "  init.kaiming_normal(self.state_dict()[key], mode='fan_out')\n"
     ]
    },
    {
     "name": "stdout",
     "output_type": "stream",
     "text": [
      "Using 20 classes...\n",
      "Files already downloaded and verified\n",
      "Using coarse labels...\n",
      "Using coarse labels...\n"
     ]
    }
   ],
   "source": [
    "from analysis.analysis_utils import load_trained_model, fetch_dataloaders\n",
    "import models.cifar as models\n",
    "\n",
    "# Loading models \n",
    "ind_to_class = {}\n",
    "class_to_ind = {}\n",
    "\n",
    "# Optional subsampling/whitening/blurring\n",
    "subsample_subclass = {}\n",
    "whiten_subclass = {}\n",
    "diff_subclass = {}\n",
    "\n",
    "# Loading trained model\n",
    "trained_model, args = load_trained_model(checkpoint_path)\n",
    "dataloaders = fetch_dataloaders(args, subsample_subclass=subsample_subclass, whiten_subclass=whiten_subclass)\n",
    "\n",
    "# Getting class-to-index maps for CIFAR100\n",
    "class_to_ind['super'] = dataloaders['test'].dataset.class_to_idx\n",
    "class_to_ind['sub'] = dataloaders['test'].dataset.fine_class_to_idx\n",
    "\n",
    "for tp in ['super','sub']:\n",
    "    ind_to_class[tp] = {v:k for k,v in class_to_ind[tp].items()}"
   ]
  },
  {
   "cell_type": "code",
   "execution_count": 4,
   "metadata": {},
   "outputs": [],
   "source": [
    "import torch\n",
    "\n",
    "# Setting cuda\n",
    "# NOTE: only works for cuda == True for now\n",
    "use_cuda = True\n",
    "testloader = dataloaders['test']\n",
    "if use_cuda:\n",
    "    trained_model.cuda()\n",
    "else:\n",
    "    trained_model.to('cpu')\n",
    "    trained_model.module.to('cpu')"
   ]
  },
  {
   "cell_type": "code",
   "execution_count": 5,
   "metadata": {},
   "outputs": [
    {
     "name": "stderr",
     "output_type": "stream",
     "text": [
      "/lfs/local/0/jdunnmon/repos/anaconda3/envs/pytorch-classification/lib/python3.6/site-packages/ipykernel_launcher.py:19: UserWarning: volatile was removed and now has no effect. Use `with torch.no_grad():` instead.\n",
      "/lfs/local/0/jdunnmon/repos/anaconda3/envs/pytorch-classification/lib/python3.6/site-packages/ipykernel_launcher.py:24: UserWarning: Implicit dimension choice for softmax has been deprecated. Change the call to include dim=X as an argument.\n"
     ]
    }
   ],
   "source": [
    "import numpy as np\n",
    "from analysis.analysis_utils import extract_resnext_features\n",
    "\n",
    "filenames_all = []\n",
    "coarse_labels_all = []\n",
    "fine_labels_all = []\n",
    "fine_preds_all = []\n",
    "preds_all = []\n",
    "losses_all = []\n",
    "softmax_all = []\n",
    "features_all = []\n",
    "\n",
    "for batch_idx, (inputs, targets, coarse_labels, fine_labels, filenames) in enumerate(testloader):\n",
    "\n",
    "    if use_cuda:\n",
    "        inputs, targets = inputs.cuda(), targets.cuda()\n",
    "    else:\n",
    "        inputs, targets = inputs.cpu(), targets.cpu()\n",
    "    inputs, targets = torch.autograd.Variable(inputs, volatile=True), torch.autograd.Variable(targets)\n",
    "\n",
    "    # Compute output\n",
    "    outputs = trained_model(inputs)\n",
    "    _, preds = outputs.topk(1, 1, True, True)\n",
    "    soft = torch.nn.Softmax()(outputs)\n",
    "    feats = extract_resnext_features(trained_model,inputs)\n",
    "    \n",
    "    # Record outputs of interest\n",
    "    coarse_labels_all+=list([int(a) for a in coarse_labels])\n",
    "    fine_labels_all+=list([int(a) for a in fine_labels])\n",
    "    preds_all+=list([int(a) for a in preds])\n",
    "    softmax_all+=list([a.detach().cpu().numpy() for a in soft])\n",
    "    features_all+=list([a.detach().cpu().numpy() for a in feats])\n",
    "    filenames_all+=list(filenames)"
   ]
  },
  {
   "cell_type": "code",
   "execution_count": 6,
   "metadata": {},
   "outputs": [],
   "source": [
    "# Creating prediction dataframe for writing\n",
    "import pandas as pd\n",
    "preds_dict = {\n",
    "    'filename':filenames_all,\n",
    "    'fine_labels':fine_labels_all,\n",
    "    'coarse_labels':coarse_labels_all,\n",
    "    'preds':preds_all,\n",
    "    'fine_labels_string': [ind_to_class['sub'][a] for a in fine_labels_all],\n",
    "    'coarse_labels_string': [ind_to_class['super'][a] for a in coarse_labels_all],\n",
    "    'features':features_all,\n",
    "    'softmax':softmax_all,\n",
    "}\n",
    "prediction_df = pd.DataFrame(preds_dict)"
   ]
  },
  {
   "cell_type": "code",
   "execution_count": 7,
   "metadata": {},
   "outputs": [],
   "source": [
    "# Writing prediction dataframe\n",
    "#prediction_df.to_csv(f\"{checkpoint_path}/predictions.tsv\",sep='\\t')\n",
    "\n",
    "# Writing prediction pickle\n",
    "import pickle\n",
    "with open(f\"{checkpoint_path}/predictions.pkl\",'wb') as fl:\n",
    "    pickle.dump(preds_dict,fl)"
   ]
  },
  {
   "cell_type": "code",
   "execution_count": 8,
   "metadata": {},
   "outputs": [
    {
     "name": "stdout",
     "output_type": "stream",
     "text": [
      "large_natural_outdoor_scenes superclass coarse label accuracy: 0.87\n",
      "mountain subclass coarse label accuracy: 0.9\n",
      "forest subclass coarse label accuracy: 0.66\n",
      "sea subclass coarse label accuracy: 0.92\n",
      "cloud subclass coarse label accuracy: 0.94\n",
      "plain subclass coarse label accuracy: 0.93\n",
      "\n",
      "\n",
      "aquatic_mammals superclass coarse label accuracy: 0.688\n",
      "seal subclass coarse label accuracy: 0.65\n",
      "beaver subclass coarse label accuracy: 0.61\n",
      "whale subclass coarse label accuracy: 0.75\n",
      "dolphin subclass coarse label accuracy: 0.78\n",
      "otter subclass coarse label accuracy: 0.65\n",
      "\n",
      "\n",
      "fruit_and_vegetables superclass coarse label accuracy: 0.872\n",
      "mushroom subclass coarse label accuracy: 0.69\n",
      "apple subclass coarse label accuracy: 0.96\n",
      "orange subclass coarse label accuracy: 0.98\n",
      "pear subclass coarse label accuracy: 0.91\n",
      "sweet_pepper subclass coarse label accuracy: 0.82\n",
      "\n",
      "\n",
      "flowers superclass coarse label accuracy: 0.904\n",
      "tulip subclass coarse label accuracy: 0.96\n",
      "rose subclass coarse label accuracy: 0.85\n",
      "sunflower subclass coarse label accuracy: 0.94\n",
      "orchid subclass coarse label accuracy: 0.83\n",
      "poppy subclass coarse label accuracy: 0.94\n",
      "\n",
      "\n",
      "large_omnivores_and_herbivores superclass coarse label accuracy: 0.734\n",
      "camel subclass coarse label accuracy: 0.77\n",
      "chimpanzee subclass coarse label accuracy: 0.62\n",
      "cattle subclass coarse label accuracy: 0.78\n",
      "elephant subclass coarse label accuracy: 0.85\n",
      "kangaroo subclass coarse label accuracy: 0.65\n",
      "\n",
      "\n",
      "insects superclass coarse label accuracy: 0.746\n",
      "butterfly subclass coarse label accuracy: 0.77\n",
      "cockroach subclass coarse label accuracy: 0.82\n",
      "bee subclass coarse label accuracy: 0.66\n",
      "beetle subclass coarse label accuracy: 0.76\n",
      "caterpillar subclass coarse label accuracy: 0.72\n",
      "\n",
      "\n",
      "medium_mammals superclass coarse label accuracy: 0.672\n",
      "skunk subclass coarse label accuracy: 0.67\n",
      "porcupine subclass coarse label accuracy: 0.62\n",
      "raccoon subclass coarse label accuracy: 0.76\n",
      "possum subclass coarse label accuracy: 0.61\n",
      "fox subclass coarse label accuracy: 0.7\n",
      "\n",
      "\n",
      "vehicles_2 superclass coarse label accuracy: 0.784\n",
      "streetcar subclass coarse label accuracy: 0.71\n",
      "rocket subclass coarse label accuracy: 0.77\n",
      "lawn_mower subclass coarse label accuracy: 0.84\n",
      "tractor subclass coarse label accuracy: 0.88\n",
      "tank subclass coarse label accuracy: 0.72\n",
      "\n",
      "\n",
      "household_electrical_devices superclass coarse label accuracy: 0.77\n",
      "lamp subclass coarse label accuracy: 0.59\n",
      "keyboard subclass coarse label accuracy: 0.85\n",
      "clock subclass coarse label accuracy: 0.74\n",
      "television subclass coarse label accuracy: 0.83\n",
      "telephone subclass coarse label accuracy: 0.84\n",
      "\n",
      "\n",
      "large_carnivores superclass coarse label accuracy: 0.738\n",
      "lion subclass coarse label accuracy: 0.83\n",
      "wolf subclass coarse label accuracy: 0.7\n",
      "leopard subclass coarse label accuracy: 0.81\n",
      "bear subclass coarse label accuracy: 0.45\n",
      "tiger subclass coarse label accuracy: 0.9\n",
      "\n",
      "\n",
      "reptiles superclass coarse label accuracy: 0.634\n",
      "dinosaur subclass coarse label accuracy: 0.63\n",
      "turtle subclass coarse label accuracy: 0.55\n",
      "crocodile subclass coarse label accuracy: 0.63\n",
      "snake subclass coarse label accuracy: 0.67\n",
      "lizard subclass coarse label accuracy: 0.69\n",
      "\n",
      "\n",
      "food_containers superclass coarse label accuracy: 0.83\n",
      "can subclass coarse label accuracy: 0.85\n",
      "plate subclass coarse label accuracy: 0.89\n",
      "bottle subclass coarse label accuracy: 0.78\n",
      "bowl subclass coarse label accuracy: 0.74\n",
      "cup subclass coarse label accuracy: 0.89\n",
      "\n",
      "\n",
      "vehicles_1 superclass coarse label accuracy: 0.78\n",
      "bicycle subclass coarse label accuracy: 0.92\n",
      "pickup_truck subclass coarse label accuracy: 0.78\n",
      "train subclass coarse label accuracy: 0.66\n",
      "bus subclass coarse label accuracy: 0.68\n",
      "motorcycle subclass coarse label accuracy: 0.86\n",
      "\n",
      "\n",
      "household_furniture superclass coarse label accuracy: 0.888\n",
      "chair subclass coarse label accuracy: 0.94\n",
      "couch subclass coarse label accuracy: 0.85\n",
      "wardrobe subclass coarse label accuracy: 0.93\n",
      "table subclass coarse label accuracy: 0.78\n",
      "bed subclass coarse label accuracy: 0.94\n",
      "\n",
      "\n",
      "trees superclass coarse label accuracy: 0.9\n",
      "palm_tree subclass coarse label accuracy: 0.87\n",
      "oak_tree subclass coarse label accuracy: 0.98\n",
      "maple_tree subclass coarse label accuracy: 0.93\n",
      "pine_tree subclass coarse label accuracy: 0.84\n",
      "willow_tree subclass coarse label accuracy: 0.88\n",
      "\n",
      "\n",
      "fish superclass coarse label accuracy: 0.726\n",
      "shark subclass coarse label accuracy: 0.65\n",
      "flatfish subclass coarse label accuracy: 0.71\n",
      "ray subclass coarse label accuracy: 0.71\n",
      "trout subclass coarse label accuracy: 0.85\n",
      "aquarium_fish subclass coarse label accuracy: 0.71\n",
      "\n",
      "\n",
      "people superclass coarse label accuracy: 0.874\n",
      "boy subclass coarse label accuracy: 0.93\n",
      "baby subclass coarse label accuracy: 0.87\n",
      "girl subclass coarse label accuracy: 0.88\n",
      "man subclass coarse label accuracy: 0.82\n",
      "woman subclass coarse label accuracy: 0.87\n",
      "\n",
      "\n",
      "large_man-made_outdoor_things superclass coarse label accuracy: 0.848\n",
      "house subclass coarse label accuracy: 0.76\n",
      "castle subclass coarse label accuracy: 0.92\n",
      "skyscraper subclass coarse label accuracy: 0.87\n",
      "bridge subclass coarse label accuracy: 0.79\n",
      "road subclass coarse label accuracy: 0.9\n",
      "\n",
      "\n",
      "non-insect_invertebrates superclass coarse label accuracy: 0.682\n",
      "snail subclass coarse label accuracy: 0.68\n",
      "crab subclass coarse label accuracy: 0.76\n",
      "lobster subclass coarse label accuracy: 0.58\n",
      "worm subclass coarse label accuracy: 0.68\n",
      "spider subclass coarse label accuracy: 0.71\n",
      "\n",
      "\n",
      "small_mammals superclass coarse label accuracy: 0.692\n",
      "rabbit subclass coarse label accuracy: 0.58\n",
      "mouse subclass coarse label accuracy: 0.8\n",
      "shrew subclass coarse label accuracy: 0.51\n",
      "hamster subclass coarse label accuracy: 0.87\n",
      "squirrel subclass coarse label accuracy: 0.7\n",
      "\n",
      "\n"
     ]
    }
   ],
   "source": [
    "from sklearn.metrics import accuracy_score\n",
    "from collections import defaultdict\n",
    "\n",
    "# Computing superclass accuracy and subclass accuracy\n",
    "coarse_results = defaultdict(dict)\n",
    "accuracy_type = 'coarse'\n",
    "for coarse_class in prediction_df['coarse_labels_string'].unique():\n",
    "    coarse_accs = {}\n",
    "    coarse_class_df = prediction_df[prediction_df['coarse_labels_string']==coarse_class]\n",
    "    coarse_class_acc = accuracy_score(coarse_class_df[f'{accuracy_type}_labels'],coarse_class_df[f'preds'])\n",
    "    print(f'{coarse_class} superclass {accuracy_type} label accuracy: {coarse_class_acc}')\n",
    "    coarse_results['superclass'].update({coarse_class:coarse_class_acc})\n",
    "   # print(f\"fine label disribution: {Counter(coarse_class_df['fine_labels_string'])}\")\n",
    "    for ii, fine_class in enumerate(coarse_class_df['fine_labels_string'].unique()):\n",
    "        fine_class_df = coarse_class_df[coarse_class_df['fine_labels_string']==fine_class]\n",
    "        fine_class_acc = accuracy_score(fine_class_df[f'{accuracy_type}_labels'],fine_class_df[f'preds'])\n",
    "        print(f'{fine_class} subclass {accuracy_type} label accuracy: {fine_class_acc}')\n",
    "        coarse_results[f'subclass_{ii}'].update({coarse_class:fine_class_acc})\n",
    "    print('\\n')"
   ]
  },
  {
   "cell_type": "code",
   "execution_count": 9,
   "metadata": {},
   "outputs": [],
   "source": [
    "# Melting dataframe for plotting\n",
    "plot_df = pd.DataFrame(coarse_results).reset_index()\n",
    "plot_df = plot_df.rename(columns={\"index\": \"Superclass\"})\n",
    "plot_df = plot_df.melt(id_vars=['Superclass'], var_name='Subset', value_name='Accuracy')"
   ]
  },
  {
   "cell_type": "code",
   "execution_count": 10,
   "metadata": {},
   "outputs": [
    {
     "data": {
      "text/plain": [
       "<Figure size 1000x1000 with 1 Axes>"
      ]
     },
     "metadata": {},
     "output_type": "display_data"
    }
   ],
   "source": [
    "import seaborn as sns\n",
    "import matplotlib.pyplot as plt\n",
    "palette = [sns.xkcd_rgb[\"black\"]] + 5*[sns.xkcd_rgb[\"blue\"]]\n",
    "sns.set(font_scale=1.5)\n",
    "f = plt.figure(figsize=(10,10))\n",
    "ax = sns.stripplot(x=\"Superclass\", y=\"Accuracy\", hue=\"Subset\", data=plot_df, jitter=False, s=20, palette=palette, alpha=0.5)\n",
    "ax.set_xticklabels(ax.get_xticklabels(),rotation=90)\n",
    "h,l = ax.get_legend_handles_labels()\n",
    "ax.legend_.remove()\n",
    "ax.legend(h,l, ncol=2, loc='lower right')\n",
    "ax.set_ylim([0.3,1.02])\n",
    "plt.tight_layout()\n",
    "plt.savefig('Superclass-Subclass-CIFAR-100-Correct-Val.png',format='png')\n",
    "plt.show()"
   ]
  },
  {
   "cell_type": "markdown",
   "metadata": {},
   "source": [
    "## SANDBOX"
   ]
  },
  {
   "cell_type": "code",
   "execution_count": 38,
   "metadata": {},
   "outputs": [
    {
     "data": {
      "text/plain": [
       "{0: 'aquatic_mammals',\n",
       " 1: 'fish',\n",
       " 2: 'flowers',\n",
       " 3: 'food_containers',\n",
       " 4: 'fruit_and_vegetables',\n",
       " 5: 'household_electrical_devices',\n",
       " 6: 'household_furniture',\n",
       " 7: 'insects',\n",
       " 8: 'large_carnivores',\n",
       " 9: 'large_man-made_outdoor_things',\n",
       " 10: 'large_natural_outdoor_scenes',\n",
       " 11: 'large_omnivores_and_herbivores',\n",
       " 12: 'medium_mammals',\n",
       " 13: 'non-insect_invertebrates',\n",
       " 14: 'people',\n",
       " 15: 'reptiles',\n",
       " 16: 'small_mammals',\n",
       " 17: 'trees',\n",
       " 18: 'vehicles_1',\n",
       " 19: 'vehicles_2'}"
      ]
     },
     "execution_count": 38,
     "metadata": {},
     "output_type": "execute_result"
    }
   ],
   "source": [
    "# Code for getting class-ti-ind map\n",
    "ind_to_class['super']"
   ]
  },
  {
   "cell_type": "code",
   "execution_count": 60,
   "metadata": {},
   "outputs": [
    {
     "data": {
      "text/plain": [
       "<matplotlib.image.AxesImage at 0x7efabd357ac8>"
      ]
     },
     "execution_count": 60,
     "metadata": {},
     "output_type": "execute_result"
    },
    {
     "data": {
      "image/png": "[encoded data removed]",
      "text/plain": [
       "<Figure size 432x288 with 1 Axes>"
      ]
     },
     "metadata": {
      "needs_background": "light"
     },
     "output_type": "display_data"
    }
   ],
   "source": [
    "# Code for looking at images\n",
    "import matplotlib.pyplot as plt\n",
    "plt.imshow(dataloaders['test'].dataset.data['data'][112])"
   ]
  },
  {
   "cell_type": "code",
   "execution_count": 61,
   "metadata": {},
   "outputs": [
    {
     "data": {
      "text/plain": [
       "<matplotlib.image.AxesImage at 0x7efabd33c710>"
      ]
     },
     "execution_count": 61,
     "metadata": {},
     "output_type": "execute_result"
    },
    {
     "data": {
      "image/png": "[encoded data removed]",
      "text/plain": [
       "<Figure size 432x288 with 1 Axes>"
      ]
     },
     "metadata": {
      "needs_background": "light"
     },
     "output_type": "display_data"
    }
   ],
   "source": [
    "# Code for blurring images\n",
    "from scipy.ndimage.filters import gaussian_filter\n",
    "plt.imshow(gaussian_filter(dataloaders['test'].dataset.data['data'][112], sigma=0.75))"
   ]
  },
  {
   "cell_type": "code",
   "execution_count": 4,
   "metadata": {},
   "outputs": [],
   "source": [
    "import pickle\n",
    "# Code for opening metadata file\n",
    "with open('data/cifar-100-python/meta','rb') as fl:\n",
    "    test_set = pickle.load(fl, encoding='latin1')"
   ]
  },
  {
   "cell_type": "code",
   "execution_count": 12,
   "metadata": {},
   "outputs": [
    {
     "data": {
      "text/plain": [
       "0.25"
      ]
     },
     "execution_count": 12,
     "metadata": {},
     "output_type": "execute_result"
    }
   ],
   "source": [
    "import ast\n",
    "# Code for literal evaluation of string arguments\n",
    "ast.literal_eval(str({'mountain':0.25, \"dolphin\":0.25}))['mountain']"
   ]
  },
  {
   "cell_type": "code",
   "execution_count": 50,
   "metadata": {},
   "outputs": [
    {
     "name": "stdout",
     "output_type": "stream",
     "text": [
      "dict_keys(['filename', 'fine_labels', 'coarse_labels', 'preds', 'fine_labels_string', 'coarse_labels_string', 'features', 'softmax'])\n",
      "[3.3991101e-01 2.0973168e-03 3.6208675e-04 9.9613890e-04 3.3064061e-04\n",
      " 5.2186134e-03 2.6534460e-03 2.3685237e-02 1.6689739e-03 5.5116761e-01\n",
      " 2.2342072e-03 8.3275707e-03 1.1668189e-03 6.2619844e-03 9.2053190e-03\n",
      " 1.9119394e-03 2.9823640e-03 2.7749953e-03 3.5174839e-02 1.8689107e-03]\n"
     ]
    },
    {
     "data": {
      "text/plain": [
       "1024"
      ]
     },
     "execution_count": 50,
     "metadata": {},
     "output_type": "execute_result"
    }
   ],
   "source": [
    "# Code for reading in saved pickle\n",
    "import pickle\n",
    "with open(f'{checkpoint_path}/predictions.pkl','rb') as fl:\n",
    "    read_data = pickle.load(fl)\n",
    "print(read_data.keys())\n",
    "print(read_data['softmax'][0])\n",
    "len(read_data['features'][0])"
   ]
  },
  {
   "cell_type": "code",
   "execution_count": 16,
   "metadata": {},
   "outputs": [
    {
     "name": "stdout",
     "output_type": "stream",
     "text": [
      "Object `reset_index` not found.\n"
     ]
    }
   ],
   "source": [
    "# Code for reading in save tsv\n",
    "import ast\n",
    "aa = pd.read_csv(f'{checkpoint_path}/predictions.tsv', sep='\\t', index_col=0)\n",
    "\n",
    "# Need to do some odd replacement to reconstitute saved lists\n",
    "softmax = ast.literal_eval(saved_pd['softmax'][0].replace(' ',','))\n",
    "print(softmax)\n",
    "\n",
    "features = ast.literal_eval(saved_pd['features'][0].replace(' ',','))\n",
    "print(features)"
   ]
  }
 ],
 "metadata": {
  "kernelspec": {
   "display_name": "pytorch-classification",
   "language": "python",
   "name": "pytorch-classification"
  },
  "language_info": {
   "codemirror_mode": {
    "name": "ipython",
    "version": 3
   },
   "file_extension": ".py",
   "mimetype": "text/x-python",
   "name": "python",
   "nbconvert_exporter": "python",
   "pygments_lexer": "ipython3",
   "version": "3.6.9"
  }
 },
 "nbformat": 4,
 "nbformat_minor": 4
}
