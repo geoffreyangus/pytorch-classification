{
 "cells": [
  {
   "cell_type": "markdown",
   "metadata": {},
   "source": [
    "# 12/4/19\n",
    "\n",
    "Creating a MIMIC CSV for drain detection.\n",
    "\n",
    "major changes to /lfs/1/jdunnmon/repos/mi-subsets/mimic/all_mimic_data.tsv:\n",
    "1. now a CSV\n",
    "2. has .jpg paths instead of .dcm paths\n",
    "3. has drain labels"
   ]
  },
  {
   "cell_type": "code",
   "execution_count": null,
   "metadata": {},
   "outputs": [],
   "source": [
    "import os\n",
    "import os.path as osp\n",
    "\n",
    "import pandas as pd\n",
    "import numpy as np\n",
    "from tqdm import tqdm"
   ]
  },
  {
   "cell_type": "code",
   "execution_count": null,
   "metadata": {},
   "outputs": [],
   "source": [
    "data_dir = '/lfs/1/jdunnmon/repos/mi-subsets/mimic/'\n",
    "output_dir = ''\n",
    "\n",
    "mimic_with_tubes_df = pd.read_csv(osp.join(data_dir, 'all_mimic_data_with_tubes_v2.tsv'), sep='\\t', index_col=0)\n",
    "mimic_df = pd.read_csv(osp.join(data_dir, 'all_mimic_data.tsv'), sep='\\t', index_col=0)\n"
   ]
  },
  {
   "cell_type": "code",
   "execution_count": null,
   "metadata": {},
   "outputs": [],
   "source": [
    "# idxs = list(mimic_with_tubes_df.index)\n",
    "# mimic_df['drain'] = [0.0] * len(mimic_df)\n",
    "# mimic_df.loc[idxs, 'drain'] = 1.0\n",
    "\n",
    "mimic_df['path_image'] = [path[:-3] + 'jpg' for path in mimic_df['path_image']]"
   ]
  },
  {
   "cell_type": "code",
   "execution_count": null,
   "metadata": {},
   "outputs": [],
   "source": [
    "print(len(mimic_df))\n",
    "for split in mimic_df['split'].unique():\n",
    "    split_total = sum(mimic_df['split'] == split)\n",
    "    split_tubes = sum(mimic_df.loc[mimic_df['split'] == split]['drain'])\n",
    "    print(split_total, split_tubes, split_tubes / split_total)"
   ]
  },
  {
   "cell_type": "code",
   "execution_count": null,
   "metadata": {},
   "outputs": [],
   "source": [
    "mimic_df.to_csv('/lfs/1/gangus/repositories/pytorch-classification/drain_detector/data/mimic/mimic_all.csv')"
   ]
  },
  {
   "cell_type": "code",
   "execution_count": null,
   "metadata": {},
   "outputs": [],
   "source": [
    "mimic_df.iloc[idxs[0]]['path_image']"
   ]
  },
  {
   "cell_type": "code",
   "execution_count": null,
   "metadata": {},
   "outputs": [],
   "source": [
    "from PIL import Image \n",
    "import matplotlib.pyplot as plt\n",
    "# Read image \n",
    "img = Image.open('/lfs/1/gangus/data/mimic-jpg/physionet.org/files/mimic-cxr-jpg/2.0.0/files/p10/p10003400/s50100991/c1981851-eee51654-80b71d01-2ee65952-4c70c720.jpg').convert('RGB') \n",
    "np.array(img).shape\n",
    "# img\n",
    "# Output Images \n",
    "# plt.imshow(img) "
   ]
  },
  {
   "cell_type": "code",
   "execution_count": null,
   "metadata": {},
   "outputs": [],
   "source": [
    "chexnet_df = pd.read_csv('/lfs/1/gangus/repositories/pytorch-classification/drain_detector/data/chexnet/by-patient-id/split/valid.csv')"
   ]
  },
  {
   "cell_type": "code",
   "execution_count": null,
   "metadata": {},
   "outputs": [],
   "source": [
    "# idx = 7\n",
    "# img_path = chexnet_df.iloc[idx]['Image Index']\n",
    "# img_drain = chexnet_df.iloc[idx]['drain']\n",
    "# print(img_drain)\n",
    "# Image.open(osp.join('/lfs/1/jdunnmon/data/nih/images/images', img_path))"
   ]
  },
  {
   "cell_type": "code",
   "execution_count": null,
   "metadata": {},
   "outputs": [],
   "source": [
    "from collections import Counter\n",
    "\n",
    "Counter(list(chexnet_df['drain']))"
   ]
  },
  {
   "cell_type": "code",
   "execution_count": null,
   "metadata": {},
   "outputs": [],
   "source": [
    "images_dir = '/lfs/1/gangus/repositories/pytorch-classification/catheter_detector/results/catheter_detect/chexnet/validation_set/test_latest/images'\n"
   ]
  },
  {
   "cell_type": "code",
   "execution_count": null,
   "metadata": {},
   "outputs": [],
   "source": [
    "chexnet_image = Image.open(osp.join(images_dir, '00013209_000_real_A2.png'))\n",
    "np.array(chexnet_image).shape"
   ]
  },
  {
   "cell_type": "code",
   "execution_count": null,
   "metadata": {},
   "outputs": [],
   "source": [
    "chexnet_image"
   ]
  },
  {
   "cell_type": "code",
   "execution_count": null,
   "metadata": {},
   "outputs": [],
   "source": [
    "chexnet_image_raw = Image.open(osp.join('/lfs/1/jdunnmon/data/nih/images/images','00022265_000.png'))\n",
    "np.array(chexnet_image_raw).shape"
   ]
  },
  {
   "cell_type": "code",
   "execution_count": null,
   "metadata": {},
   "outputs": [],
   "source": []
  }
 ],
 "metadata": {
  "kernelspec": {
   "display_name": "Python 3",
   "language": "python",
   "name": "python3"
  },
  "language_info": {
   "codemirror_mode": {
    "name": "ipython",
    "version": 3
   },
   "file_extension": ".py",
   "mimetype": "text/x-python",
   "name": "python",
   "nbconvert_exporter": "python",
   "pygments_lexer": "ipython3",
   "version": "3.6.7"
  }
 },
 "nbformat": 4,
 "nbformat_minor": 4
}
