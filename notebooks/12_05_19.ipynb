{
 "cells": [
  {
   "cell_type": "markdown",
   "metadata": {},
   "source": [
    "# 12/5/19\n",
    "\n",
    "Seeing if we've actually reproduced CheXNet.\n",
    "\n",
    "UPDATE: we are able to reproduce CheXNet. Adding weighted cross entropy loss function didn't actually change anything."
   ]
  },
  {
   "cell_type": "code",
   "execution_count": 6,
   "metadata": {},
   "outputs": [
    {
     "name": "stdout",
     "output_type": "stream",
     "text": [
      "The autoreload extension is already loaded. To reload it, use:\n",
      "  %reload_ext autoreload\n"
     ]
    }
   ],
   "source": [
    "%load_ext autoreload\n",
    "%autoreload 2\n",
    "\n",
    "import math\n",
    "import os\n",
    "import os.path as osp\n",
    "import json\n",
    "from functools import partial\n",
    "from collections import defaultdict\n",
    "os.chdir('/lfs/1/gangus/repositories/pytorch-classification/Emmental-ChexNet')\n",
    "\n",
    "import torch\n",
    "import torch.nn as nn\n",
    "import torch.nn.functional as F\n",
    "import sklearn.metrics as skl\n",
    "import numpy as np\n",
    "import pandas as pd\n",
    "from tqdm import tqdm\n",
    "import matplotlib.pyplot as plt\n",
    "from PIL import Image\n",
    "\n",
    "import emmental\n",
    "from emmental import Meta\n",
    "from emmental.data import EmmentalDataLoader\n",
    "from emmental.learner import EmmentalLearner\n",
    "from emmental.model import EmmentalModel\n",
    "from emmental.scorer import Scorer\n",
    "from emmental.task import EmmentalTask\n",
    "from emmental.utils.utils import str2bool, move_to_device\n",
    "\n",
    "from dataset import CXR8Dataset\n",
    "from task import get_task\n",
    "from task_config import CXR8_TASK_NAMES\n",
    "from transforms import get_data_transforms"
   ]
  },
  {
   "cell_type": "code",
   "execution_count": 16,
   "metadata": {},
   "outputs": [],
   "source": [
    "# old\n",
    "emmental_dir = '/lfs/1/gangus/repositories/pytorch-classification/Emmental-ChexNet/logs/2019_12_04/14_31_34/99ae8f45'\n",
    "# new\n",
    "# emmental_dir = '/lfs/1/gangus/repositories/pytorch-classification/Emmental-ChexNet/logs/2019_12_05/11_22_23/07d2550b/'"
   ]
  },
  {
   "cell_type": "code",
   "execution_count": 35,
   "metadata": {},
   "outputs": [
    {
     "name": "stderr",
     "output_type": "stream",
     "text": [
      "[2019-12-08 13:30:15,171][INFO] emmental.meta:110 - Logging was already initialized to use /tmp/2019_12_08/13_16_45/0bcdcba2.  To configure logging manually, call emmental.init_logging before initialiting Meta.\n",
      "[2019-12-08 13:30:15,230][INFO] emmental.meta:60 - Loading Emmental default config from /lfs/1/gangus/repositories/pytorch-classification/emmental/src/emmental/emmental-default-config.yaml.\n",
      "[2019-12-08 13:30:15,232][INFO] emmental.meta:160 - Updating Emmental config from user provided config.\n",
      "[2019-12-08 13:30:20,769][INFO] emmental.task:48 - Created task: Atelectasis\n",
      "[2019-12-08 13:30:20,771][INFO] emmental.task:48 - Created task: Cardiomegaly\n",
      "[2019-12-08 13:30:20,772][INFO] emmental.task:48 - Created task: Effusion\n",
      "[2019-12-08 13:30:20,773][INFO] emmental.task:48 - Created task: Infiltration\n",
      "[2019-12-08 13:30:20,774][INFO] emmental.task:48 - Created task: Mass\n",
      "[2019-12-08 13:30:20,775][INFO] emmental.task:48 - Created task: Nodule\n",
      "[2019-12-08 13:30:20,776][INFO] emmental.task:48 - Created task: Pneumonia\n",
      "[2019-12-08 13:30:20,778][INFO] emmental.task:48 - Created task: Pneumothorax\n",
      "[2019-12-08 13:30:20,779][INFO] emmental.task:48 - Created task: Consolidation\n",
      "[2019-12-08 13:30:20,780][INFO] emmental.task:48 - Created task: Edema\n",
      "[2019-12-08 13:30:20,781][INFO] emmental.task:48 - Created task: Emphysema\n",
      "[2019-12-08 13:30:20,782][INFO] emmental.task:48 - Created task: Fibrosis\n",
      "[2019-12-08 13:30:20,783][INFO] emmental.task:48 - Created task: Pleural_Thickening\n",
      "[2019-12-08 13:30:20,784][INFO] emmental.task:48 - Created task: Hernia\n",
      "[2019-12-08 13:30:20,822][INFO] emmental.model:71 - Moving model to GPU (cuda:0).\n",
      "[2019-12-08 13:30:20,832][INFO] emmental.model:71 - Moving model to GPU (cuda:0).\n",
      "[2019-12-08 13:30:20,843][INFO] emmental.model:71 - Moving model to GPU (cuda:0).\n",
      "[2019-12-08 13:30:20,853][INFO] emmental.model:71 - Moving model to GPU (cuda:0).\n",
      "[2019-12-08 13:30:20,864][INFO] emmental.model:71 - Moving model to GPU (cuda:0).\n",
      "[2019-12-08 13:30:20,875][INFO] emmental.model:71 - Moving model to GPU (cuda:0).\n",
      "[2019-12-08 13:30:20,886][INFO] emmental.model:71 - Moving model to GPU (cuda:0).\n",
      "[2019-12-08 13:30:20,897][INFO] emmental.model:71 - Moving model to GPU (cuda:0).\n",
      "[2019-12-08 13:30:20,908][INFO] emmental.model:71 - Moving model to GPU (cuda:0).\n",
      "[2019-12-08 13:30:20,919][INFO] emmental.model:71 - Moving model to GPU (cuda:0).\n",
      "[2019-12-08 13:30:20,931][INFO] emmental.model:71 - Moving model to GPU (cuda:0).\n",
      "[2019-12-08 13:30:20,943][INFO] emmental.model:71 - Moving model to GPU (cuda:0).\n",
      "[2019-12-08 13:30:20,954][INFO] emmental.model:71 - Moving model to GPU (cuda:0).\n",
      "[2019-12-08 13:30:20,966][INFO] emmental.model:71 - Moving model to GPU (cuda:0).\n",
      "[2019-12-08 13:30:20,972][INFO] emmental.model:57 - Created emmental model CXR8 that contains task {'Emphysema', 'Effusion', 'Pneumothorax', 'Edema', 'Nodule', 'Consolidation', 'Fibrosis', 'Infiltration', 'Pneumonia', 'Mass', 'Pleural_Thickening', 'Hernia', 'Atelectasis', 'Cardiomegaly'}.\n",
      "[2019-12-08 13:30:20,973][INFO] emmental.model:71 - Moving model to GPU (cuda:0).\n"
     ]
    }
   ],
   "source": [
    "def ce_loss(task_name, immediate_ouput_dict, Y, active):\n",
    "    module_name = f\"{task_name}_pred_head\"\n",
    "    return F.cross_entropy(\n",
    "        immediate_ouput_dict[module_name][0][active], (Y.view(-1) - 1)[active]\n",
    "    )\n",
    "\n",
    "def output(task_name, immediate_ouput_dict):\n",
    "    module_name = f\"{task_name}_pred_head\"\n",
    "    return F.softmax(immediate_ouput_dict[module_name][0], dim=-1)\n",
    "\n",
    "DATA_NAME = 'CXR8'\n",
    "\n",
    "image_path = '/lfs/1/jdunnmon/data/nih/images/images'\n",
    "data_path = '/dfs/scratch1/senwu/mmtl/emmental-tutorials/chexnet/data/nih_labels.csv'\n",
    "\n",
    "task_names = CXR8_TASK_NAMES\n",
    "task_to_label_dict = {t: t for t in task_names}\n",
    "add_binary_triage_label = False\n",
    "batch_size = 16\n",
    "\n",
    "split = 'val'\n",
    "\n",
    "emmental.init()\n",
    "\n",
    "model_config = {\n",
    "    'model_path': osp.join(emmental_dir, 'best_model_model_all_val_loss.pth'),\n",
    "    'device': 0,\n",
    "    'dataparallel': True\n",
    "}\n",
    "Meta.update_config(\n",
    "    config={\n",
    "        \"meta_config\": {\"seed\": 1701, \"device\": 0},\n",
    "        \"model_config\": model_config\n",
    "    }\n",
    ")\n",
    "\n",
    "cxr8_transform = get_data_transforms(DATA_NAME)\n",
    "dataset = CXR8Dataset(\n",
    "    name=DATA_NAME,\n",
    "    path_to_images=image_path,\n",
    "    path_to_labels=data_path,\n",
    "    split=split,\n",
    "    transform=cxr8_transform[split],\n",
    "    sample=0,\n",
    "    seed=1701,\n",
    "    add_binary_triage_label=add_binary_triage_label,\n",
    ")\n",
    "\n",
    "task_to_class_weights = {}\n",
    "for task_name in task_names:\n",
    "    task_labels = dataset.Y_dict[task_to_label_dict[task_name]]\n",
    "    # weighting scheme from paper: w_pos = |N| / (|P| + |N|), w_neg = |P| / (|P| + |N|)\n",
    "    w_pos = sum(task_labels == 2).type(torch.FloatTensor) / len(task_labels) # categorical: [0: abstain, 1: positive, 2: negative]\n",
    "    w_neg = sum(task_labels == 1).type(torch.FloatTensor) / len(task_labels)\n",
    "    task_to_class_weights[task_name] = move_to_device(torch.tensor([w_pos, w_neg]), Meta.config[\"model_config\"][\"device\"])\n",
    "\n",
    "dataloader = EmmentalDataLoader(\n",
    "    task_to_label_dict=task_to_label_dict,\n",
    "    dataset=dataset,\n",
    "    split=split,\n",
    "    shuffle=True if split == \"train\" else False,\n",
    "    batch_size=batch_size,\n",
    "    num_workers=16,\n",
    ")\n",
    "\n",
    "tasks = get_task(task_names, task_to_class_weights)\n",
    "model = EmmentalModel(name=DATA_NAME, tasks=tasks)"
   ]
  },
  {
   "cell_type": "code",
   "execution_count": 36,
   "metadata": {},
   "outputs": [
    {
     "name": "stderr",
     "output_type": "stream",
     "text": [
      "[2019-12-08 13:30:21,302][INFO] emmental.model:518 - [CXR8] Model loaded from /lfs/1/gangus/repositories/pytorch-classification/Emmental-ChexNet/logs/2019_12_04/14_31_34/99ae8f45/best_model_model_all_val_loss.pth\n",
      "[2019-12-08 13:30:21,303][INFO] emmental.model:71 - Moving model to GPU (cuda:0).\n"
     ]
    }
   ],
   "source": [
    "if Meta.config[\"model_config\"][\"model_path\"]:\n",
    "    model.load(Meta.config[\"model_config\"][\"model_path\"])"
   ]
  },
  {
   "cell_type": "code",
   "execution_count": 37,
   "metadata": {},
   "outputs": [
    {
     "name": "stderr",
     "output_type": "stream",
     "text": [
      "100%|██████████| 702/702 [00:40<00:00, 17.54it/s]\n"
     ]
    },
    {
     "data": {
      "text/plain": [
       "{'Atelectasis/CXR8/val/accuracy': 0.07852749799447366,\n",
       " 'Atelectasis/CXR8/val/f1': 0.15025155623774195,\n",
       " 'Atelectasis/CXR8/val/roc_auc': 0.7896770012121855,\n",
       " 'Atelectasis/CXR8/val/loss': 0.6920055356583125,\n",
       " 'Atelectasis/CXR8/val/average': 0.3394853518148004,\n",
       " 'Cardiomegaly/CXR8/val/accuracy': 0.016044210713967378,\n",
       " 'Cardiomegaly/CXR8/val/f1': 0.031875332034708694,\n",
       " 'Cardiomegaly/CXR8/val/roc_auc': 0.8699177596623857,\n",
       " 'Cardiomegaly/CXR8/val/loss': 0.44838390986896914,\n",
       " 'Cardiomegaly/CXR8/val/average': 0.3059457674703539,\n",
       " 'Effusion/CXR8/val/accuracy': 0.06043319368927712,\n",
       " 'Effusion/CXR8/val/f1': 0.12008501594048883,\n",
       " 'Effusion/CXR8/val/roc_auc': 0.8670489035906388,\n",
       " 'Effusion/CXR8/val/loss': 0.5765145105979367,\n",
       " 'Effusion/CXR8/val/average': 0.34918903774013493,\n",
       " 'Infiltration/CXR8/val/accuracy': 0.15393528835012033,\n",
       " 'Infiltration/CXR8/val/f1': 0.2737576285963383,\n",
       " 'Infiltration/CXR8/val/roc_auc': 0.6830709248757703,\n",
       " 'Infiltration/CXR8/val/loss': 0.8972146208419213,\n",
       " 'Infiltration/CXR8/val/average': 0.37025461394074294,\n",
       " 'Mass/CXR8/val/accuracy': 0.04697388359033782,\n",
       " 'Mass/CXR8/val/f1': 0.09049540654245729,\n",
       " 'Mass/CXR8/val/roc_auc': 0.8174934868793657,\n",
       " 'Mass/CXR8/val/loss': 0.6544761944973775,\n",
       " 'Mass/CXR8/val/average': 0.3183209256707203,\n",
       " 'Nodule/CXR8/val/accuracy': 0.050360994741064265,\n",
       " 'Nodule/CXR8/val/f1': 0.09646576745774288,\n",
       " 'Nodule/CXR8/val/roc_auc': 0.7140461368937955,\n",
       " 'Nodule/CXR8/val/loss': 0.9041521511825018,\n",
       " 'Nodule/CXR8/val/average': 0.2869576330308676,\n",
       " 'Pneumonia/CXR8/val/accuracy': 0.011854889027542562,\n",
       " 'Pneumonia/CXR8/val/f1': 0.023431994362226923,\n",
       " 'Pneumonia/CXR8/val/roc_auc': 0.7300347657887276,\n",
       " 'Pneumonia/CXR8/val/loss': 0.662257546569,\n",
       " 'Pneumonia/CXR8/val/average': 0.25510721639283235,\n",
       " 'Pneumothorax/CXR8/val/accuracy': 0.03788216418575631,\n",
       " 'Pneumothorax/CXR8/val/f1': 0.07363770250368189,\n",
       " 'Pneumothorax/CXR8/val/roc_auc': 0.8721789843640054,\n",
       " 'Pneumothorax/CXR8/val/loss': 0.5403512984842698,\n",
       " 'Pneumothorax/CXR8/val/average': 0.32789961701781456,\n",
       " 'Consolidation/CXR8/val/accuracy': 0.039843123273018984,\n",
       " 'Consolidation/CXR8/val/f1': 0.07663295045431168,\n",
       " 'Consolidation/CXR8/val/roc_auc': 0.8071199796306774,\n",
       " 'Consolidation/CXR8/val/loss': 0.8007840376650052,\n",
       " 'Consolidation/CXR8/val/average': 0.30786535111933605,\n",
       " 'Edema/CXR8/val/accuracy': 0.0177377662893306,\n",
       " 'Edema/CXR8/val/f1': 0.03486334968465312,\n",
       " 'Edema/CXR8/val/roc_auc': 0.8988796624013068,\n",
       " 'Edema/CXR8/val/loss': 0.46390932216399805,\n",
       " 'Edema/CXR8/val/average': 0.3171602594584302,\n",
       " 'Emphysema/CXR8/val/accuracy': 0.015776807202067922,\n",
       " 'Emphysema/CXR8/val/f1': 0.031200423056583815,\n",
       " 'Emphysema/CXR8/val/roc_auc': 0.8435683634547272,\n",
       " 'Emphysema/CXR8/val/loss': 0.5165548232352979,\n",
       " 'Emphysema/CXR8/val/average': 0.296848531237793,\n",
       " 'Fibrosis/CXR8/val/accuracy': 0.014796327658436581,\n",
       " 'Fibrosis/CXR8/val/f1': 0.02916117698726394,\n",
       " 'Fibrosis/CXR8/val/roc_auc': 0.7506300421081776,\n",
       " 'Fibrosis/CXR8/val/loss': 0.6405456553269788,\n",
       " 'Fibrosis/CXR8/val/average': 0.26486251558462603,\n",
       " 'Pleural_Thickening/CXR8/val/accuracy': 0.03315803547553258,\n",
       " 'Pleural_Thickening/CXR8/val/f1': 0.06418773186092659,\n",
       " 'Pleural_Thickening/CXR8/val/roc_auc': 0.7868463209192176,\n",
       " 'Pleural_Thickening/CXR8/val/loss': 0.9525099653646975,\n",
       " 'Pleural_Thickening/CXR8/val/average': 0.29473069608522556,\n",
       " 'Hernia/CXR8/val/accuracy': 0.0036545146626259027,\n",
       " 'Hernia/CXR8/val/f1': 0.0072824156305506225,\n",
       " 'Hernia/CXR8/val/roc_auc': 0.8536519906261864,\n",
       " 'Hernia/CXR8/val/loss': 0.15308212358179019,\n",
       " 'Hernia/CXR8/val/average': 0.288196306973121,\n",
       " 'model/all/val/micro_average': 0.3087731302526285,\n",
       " 'model/all/val/macro_average': 0.3087731302526285,\n",
       " 'model/all/val/loss': 0.6359101210741468,\n",
       " 'model/all/all/micro_average': 0.3087731302526285,\n",
       " 'model/all/all/macro_average': 0.3087731302526285,\n",
       " 'model/all/all/loss': 0.6359101210741468}"
      ]
     },
     "execution_count": 37,
     "metadata": {},
     "output_type": "execute_result"
    }
   ],
   "source": [
    "model.score(dataloader)"
   ]
  },
  {
   "cell_type": "code",
   "execution_count": 38,
   "metadata": {},
   "outputs": [],
   "source": [
    "d = {'Atelectasis/CXR8/val/accuracy': 0.07852749799447366,\n",
    " 'Atelectasis/CXR8/val/f1': 0.15025155623774195,\n",
    " 'Atelectasis/CXR8/val/roc_auc': 0.7896770012121855,\n",
    " 'Atelectasis/CXR8/val/loss': 0.6920055356583125,\n",
    " 'Atelectasis/CXR8/val/average': 0.3394853518148004,\n",
    " 'Cardiomegaly/CXR8/val/accuracy': 0.016044210713967378,\n",
    " 'Cardiomegaly/CXR8/val/f1': 0.031875332034708694,\n",
    " 'Cardiomegaly/CXR8/val/roc_auc': 0.8699177596623857,\n",
    " 'Cardiomegaly/CXR8/val/loss': 0.44838390986896914,\n",
    " 'Cardiomegaly/CXR8/val/average': 0.3059457674703539,\n",
    " 'Effusion/CXR8/val/accuracy': 0.06043319368927712,\n",
    " 'Effusion/CXR8/val/f1': 0.12008501594048883,\n",
    " 'Effusion/CXR8/val/roc_auc': 0.8670489035906388,\n",
    " 'Effusion/CXR8/val/loss': 0.5765145105979367,\n",
    " 'Effusion/CXR8/val/average': 0.34918903774013493,\n",
    " 'Infiltration/CXR8/val/accuracy': 0.15393528835012033,\n",
    " 'Infiltration/CXR8/val/f1': 0.2737576285963383,\n",
    " 'Infiltration/CXR8/val/roc_auc': 0.6830709248757703,\n",
    " 'Infiltration/CXR8/val/loss': 0.8972146208419213,\n",
    " 'Infiltration/CXR8/val/average': 0.37025461394074294,\n",
    " 'Mass/CXR8/val/accuracy': 0.04697388359033782,\n",
    " 'Mass/CXR8/val/f1': 0.09049540654245729,\n",
    " 'Mass/CXR8/val/roc_auc': 0.8174934868793657,\n",
    " 'Mass/CXR8/val/loss': 0.6544761944973775,\n",
    " 'Mass/CXR8/val/average': 0.3183209256707203,\n",
    " 'Nodule/CXR8/val/accuracy': 0.050360994741064265,\n",
    " 'Nodule/CXR8/val/f1': 0.09646576745774288,\n",
    " 'Nodule/CXR8/val/roc_auc': 0.7140461368937955,\n",
    " 'Nodule/CXR8/val/loss': 0.9041521511825018,\n",
    " 'Nodule/CXR8/val/average': 0.2869576330308676,\n",
    " 'Pneumonia/CXR8/val/accuracy': 0.011854889027542562,\n",
    " 'Pneumonia/CXR8/val/f1': 0.023431994362226923,\n",
    " 'Pneumonia/CXR8/val/roc_auc': 0.7300347657887276,\n",
    " 'Pneumonia/CXR8/val/loss': 0.662257546569,\n",
    " 'Pneumonia/CXR8/val/average': 0.25510721639283235,\n",
    " 'Pneumothorax/CXR8/val/accuracy': 0.03788216418575631,\n",
    " 'Pneumothorax/CXR8/val/f1': 0.07363770250368189,\n",
    " 'Pneumothorax/CXR8/val/roc_auc': 0.8721789843640054,\n",
    " 'Pneumothorax/CXR8/val/loss': 0.5403512984842698,\n",
    " 'Pneumothorax/CXR8/val/average': 0.32789961701781456,\n",
    " 'Consolidation/CXR8/val/accuracy': 0.039843123273018984,\n",
    " 'Consolidation/CXR8/val/f1': 0.07663295045431168,\n",
    " 'Consolidation/CXR8/val/roc_auc': 0.8071199796306774,\n",
    " 'Consolidation/CXR8/val/loss': 0.8007840376650052,\n",
    " 'Consolidation/CXR8/val/average': 0.30786535111933605,\n",
    " 'Edema/CXR8/val/accuracy': 0.0177377662893306,\n",
    " 'Edema/CXR8/val/f1': 0.03486334968465312,\n",
    " 'Edema/CXR8/val/roc_auc': 0.8988796624013068,\n",
    " 'Edema/CXR8/val/loss': 0.46390932216399805,\n",
    " 'Edema/CXR8/val/average': 0.3171602594584302,\n",
    " 'Emphysema/CXR8/val/accuracy': 0.015776807202067922,\n",
    " 'Emphysema/CXR8/val/f1': 0.031200423056583815,\n",
    " 'Emphysema/CXR8/val/roc_auc': 0.8435683634547272,\n",
    " 'Emphysema/CXR8/val/loss': 0.5165548232352979,\n",
    " 'Emphysema/CXR8/val/average': 0.296848531237793,\n",
    " 'Fibrosis/CXR8/val/accuracy': 0.014796327658436581,\n",
    " 'Fibrosis/CXR8/val/f1': 0.02916117698726394,\n",
    " 'Fibrosis/CXR8/val/roc_auc': 0.7506300421081776,\n",
    " 'Fibrosis/CXR8/val/loss': 0.6405456553269788,\n",
    " 'Fibrosis/CXR8/val/average': 0.26486251558462603,\n",
    " 'Pleural_Thickening/CXR8/val/accuracy': 0.03315803547553258,\n",
    " 'Pleural_Thickening/CXR8/val/f1': 0.06418773186092659,\n",
    " 'Pleural_Thickening/CXR8/val/roc_auc': 0.7868463209192176,\n",
    " 'Pleural_Thickening/CXR8/val/loss': 0.9525099653646975,\n",
    " 'Pleural_Thickening/CXR8/val/average': 0.29473069608522556,\n",
    " 'Hernia/CXR8/val/accuracy': 0.0036545146626259027,\n",
    " 'Hernia/CXR8/val/f1': 0.0072824156305506225,\n",
    " 'Hernia/CXR8/val/roc_auc': 0.8536519906261864,\n",
    " 'Hernia/CXR8/val/loss': 0.15308212358179019,\n",
    " 'Hernia/CXR8/val/average': 0.288196306973121,\n",
    " 'model/all/val/micro_average': 0.3087731302526285,\n",
    " 'model/all/val/macro_average': 0.3087731302526285,\n",
    " 'model/all/val/loss': 0.6359101210741468,\n",
    " 'model/all/all/micro_average': 0.3087731302526285,\n",
    " 'model/all/all/macro_average': 0.3087731302526285,\n",
    " 'model/all/all/loss': 0.6359101210741468}\n",
    "d = {k: v for k, v in d.items() if 'val/roc_auc' in k}"
   ]
  },
  {
   "cell_type": "code",
   "execution_count": 39,
   "metadata": {},
   "outputs": [
    {
     "data": {
      "text/plain": [
       "{'Atelectasis/CXR8/val/roc_auc': 0.7896770012121855,\n",
       " 'Cardiomegaly/CXR8/val/roc_auc': 0.8699177596623857,\n",
       " 'Effusion/CXR8/val/roc_auc': 0.8670489035906388,\n",
       " 'Infiltration/CXR8/val/roc_auc': 0.6830709248757703,\n",
       " 'Mass/CXR8/val/roc_auc': 0.8174934868793657,\n",
       " 'Nodule/CXR8/val/roc_auc': 0.7140461368937955,\n",
       " 'Pneumonia/CXR8/val/roc_auc': 0.7300347657887276,\n",
       " 'Pneumothorax/CXR8/val/roc_auc': 0.8721789843640054,\n",
       " 'Consolidation/CXR8/val/roc_auc': 0.8071199796306774,\n",
       " 'Edema/CXR8/val/roc_auc': 0.8988796624013068,\n",
       " 'Emphysema/CXR8/val/roc_auc': 0.8435683634547272,\n",
       " 'Fibrosis/CXR8/val/roc_auc': 0.7506300421081776,\n",
       " 'Pleural_Thickening/CXR8/val/roc_auc': 0.7868463209192176,\n",
       " 'Hernia/CXR8/val/roc_auc': 0.8536519906261864}"
      ]
     },
     "execution_count": 39,
     "metadata": {},
     "output_type": "execute_result"
    }
   ],
   "source": [
    "d"
   ]
  },
  {
   "cell_type": "code",
   "execution_count": null,
   "metadata": {},
   "outputs": [],
   "source": [
    "for task_name in dataset.Y_dict.keys():\n",
    "    print(task_name)\n",
    "    print(sum(dataset.Y_dict[task_name] == 1).type(torch.DoubleTensor) / len(dataset))"
   ]
  },
  {
   "cell_type": "code",
   "execution_count": null,
   "metadata": {},
   "outputs": [],
   "source": [
    "idx = 5\n",
    "x, y = dataset[idx]\n",
    "image_index = x['image_name']\n",
    "print(data_df.loc[image_index])\n",
    "print(y)\n"
   ]
  },
  {
   "cell_type": "markdown",
   "metadata": {},
   "source": [
    "# 2.) Determine Drain Prevalence in longitudinal exams"
   ]
  },
  {
   "cell_type": "code",
   "execution_count": 4,
   "metadata": {},
   "outputs": [],
   "source": [
    "image_dir = '/lfs/1/jdunnmon/data/nih/images/images'\n",
    "preds_df = pd.read_csv('/lfs/1/gangus/repositories/pytorch-classification/drain_detector/data/chexnet/by-patient-id/split/all_v2.csv', index_col=0).set_index('Image Index')\n",
    "valid_df = pd.read_csv('/lfs/1/gangus/repositories/pytorch-classification/drain_detector/data/chexnet/by-patient-id/split/valid.csv', index_col=0).set_index('Image Index')"
   ]
  },
  {
   "cell_type": "code",
   "execution_count": null,
   "metadata": {},
   "outputs": [],
   "source": []
  },
  {
   "cell_type": "code",
   "execution_count": 5,
   "metadata": {},
   "outputs": [
    {
     "name": "stderr",
     "output_type": "stream",
     "text": [
      "100%|██████████| 1484/1484 [00:01<00:00, 801.98it/s]\n",
      "100%|██████████| 30726/30726 [00:31<00:00, 965.75it/s] \n"
     ]
    }
   ],
   "source": [
    "pos_pneumo = preds_df.loc[(preds_df['Pneumothorax'] == 1)]\n",
    "neg_pneumo = preds_df.loc[(preds_df['Pneumothorax'] == 0)]\n",
    "\n",
    "subsets = [('pos_pneumo', pos_pneumo), ('neg_pneumo', neg_pneumo)]\n",
    "subset_info = defaultdict(list)\n",
    "for subset_name, subset in subsets:\n",
    "    patient_id_groups = subset.groupby('Patient ID')\n",
    "    for patient_id, patient_id_group in tqdm(patient_id_groups):\n",
    "        subset_info[subset_name].append({\n",
    "            'patient_id': patient_id,\n",
    "            'num_images': len(patient_id_group),\n",
    "            'num_drains': sum(patient_id_group['drain'] == 1),\n",
    "            'num_normal': sum(patient_id_group['drain'] == 0),\n",
    "            'pairable': sum(patient_id_group['drain'] == 1) > 1 and sum(patient_id_group['drain'] == 0) > 1\n",
    "        })"
   ]
  },
  {
   "cell_type": "code",
   "execution_count": 20,
   "metadata": {},
   "outputs": [
    {
     "data": {
      "text/plain": [
       "defaultdict(<function __main__.<lambda>()>,\n",
       "            {'pos_pneumo': defaultdict(int,\n",
       "                         {'patients': 1484,\n",
       "                          'pairable': 208,\n",
       "                          'num_images': 2240,\n",
       "                          'num_drains': 1490,\n",
       "                          'num_normal': 750,\n",
       "                          'pairable_frac': 0.14016172506738545}),\n",
       "             'neg_pneumo': defaultdict(int,\n",
       "                         {'patients': 30726,\n",
       "                          'pairable': 3570,\n",
       "                          'num_images': 53326,\n",
       "                          'num_drains': 23042,\n",
       "                          'num_normal': 30284,\n",
       "                          'pairable_frac': 0.11618824448349932})})"
      ]
     },
     "execution_count": 20,
     "metadata": {},
     "output_type": "execute_result"
    }
   ],
   "source": [
    "counts = defaultdict(lambda: defaultdict(int))\n",
    "for subset, info in subset_info.items():\n",
    "    for row in info:\n",
    "        counts[subset]['patients'] += 1\n",
    "        if row['pairable']:\n",
    "            counts[subset]['pairable'] += 1\n",
    "            counts[subset]['num_images'] += row['num_images']\n",
    "            counts[subset]['num_drains'] += row['num_drains']\n",
    "            counts[subset]['num_normal'] += row['num_normal']\n",
    "for subset_name, _ in subsets:\n",
    "    counts[subset_name]['pairable_frac'] = counts[subset_name]['pairable'] / counts[subset_name]['patients']\n",
    "counts"
   ]
  },
  {
   "cell_type": "code",
   "execution_count": 24,
   "metadata": {},
   "outputs": [],
   "source": [
    "pairable_patients = defaultdict(list)\n",
    "for subset, info in subset_info.items():\n",
    "    for row in info:\n",
    "        if row['pairable']:\n",
    "            pairable_patients[subset].append(row['patient_id'])"
   ]
  },
  {
   "cell_type": "code",
   "execution_count": 49,
   "metadata": {},
   "outputs": [
    {
     "name": "stdout",
     "output_type": "stream",
     "text": [
      "5\n"
     ]
    }
   ],
   "source": [
    "subset_name = 'neg_pneumo'\n",
    "idx = 6\n",
    "\n",
    "pairable_patient = pairable_patients[subset_name][idx]\n",
    "target_rows = preds_df.loc[(preds_df['Patient ID'] == pairable_patient)]\n",
    "target_rows = target_rows.loc[target_rows['Pneumothorax'] == (1 if subset_name == 'pos_pneumo' else 0)]\n",
    "print(len(target_rows))"
   ]
  },
  {
   "cell_type": "code",
   "execution_count": null,
   "metadata": {},
   "outputs": [],
   "source": [
    "target_rows = preds_df.loc[(preds_df['Patient ID'] == pairable_patient)]\n",
    "target_rows = target_rows.loc[target_rows['Pneumothorax'] == (1 if subset_name == 'pos_pneumo' else 0)]\n",
    "\n",
    "# y_true_rows = valid_df.loc[valid_df['Patient ID'] == target['patient_id']]\n",
    "plt.rcParams['figure.figsize'] = [30, 10 * math.ceil(len(target_rows)/3)]\n",
    "\n",
    "fig, axs = plt.subplots(math.ceil(len(target_rows)/3), 3)\n",
    "if isinstance(axs[0], np.ndarray):\n",
    "    axs = [ax for ax_row in axs for ax in ax_row]\n",
    "    \n",
    "\n",
    "print(np.array(target_rows['drain']))\n",
    "# print(list(y_true_rows['drain']))\n",
    "\n",
    "\n",
    "\n",
    "for i, ax in enumerate(axs):\n",
    "    if i > len(target_rows) - 1:\n",
    "        axs[i].set_axis_off()\n",
    "    else:\n",
    "        row = target_rows.iloc[i]\n",
    "        image_path = osp.join(image_dir, row.name)\n",
    "        img = Image.open(image_path)\n",
    "        axs[i].imshow(img, cmap=plt.cm.bone)"
   ]
  },
  {
   "cell_type": "code",
   "execution_count": null,
   "metadata": {},
   "outputs": [],
   "source": []
  }
 ],
 "metadata": {
  "kernelspec": {
   "display_name": "Python 3",
   "language": "python",
   "name": "python3"
  },
  "language_info": {
   "codemirror_mode": {
    "name": "ipython",
    "version": 3
   },
   "file_extension": ".py",
   "mimetype": "text/x-python",
   "name": "python",
   "nbconvert_exporter": "python",
   "pygments_lexer": "ipython3",
   "version": "3.6.7"
  }
 },
 "nbformat": 4,
 "nbformat_minor": 4
}
